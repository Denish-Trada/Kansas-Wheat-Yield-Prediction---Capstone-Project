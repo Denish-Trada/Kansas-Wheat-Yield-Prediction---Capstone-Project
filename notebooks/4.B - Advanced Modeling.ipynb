{
 "cells": [
  {
   "cell_type": "markdown",
   "id": "d933a7bb-2ca6-4abb-9e82-b2032dacab17",
   "metadata": {},
   "source": [
    "# <center> Crop Yield Prediction — Advanced Modeling </center>"
   ]
  },
  {
   "cell_type": "markdown",
   "id": "071e7ed2-f26e-410c-8cf8-4fd60354070b",
   "metadata": {},
   "source": [
    "- Author: Denish Trada\n",
    "- Date: 9th June, 2025"
   ]
  },
  {
   "cell_type": "markdown",
   "id": "d1d32d58-11c2-4497-b0dc-152940ae480c",
   "metadata": {},
   "source": [
    "# Table of Contents\n",
    "\n",
    "1. [Project Introduction](#project-introduction)  \n",
    "   &emsp;• [Motivation](#motivation)  \n",
    "   &emsp;• [Project Overview](#project-overview)  \n",
    "   &emsp;• [Strategic Summary: Progress So Far](#strategic-summary-progress-so-far)  \n",
    "   &emsp;• [Sprint 3 Focus](#sprint-3-focus)  \n",
    "   &emsp;• [Dataset & Problem Framing](#dataset--problem-framing)  \n",
    "   &emsp;• [Data-Driven Feature Selection (Summary of EDA Findings)](#data-driven-feature-selection-summary-of-eda-findings)\n",
    "\n",
    "2. [Advanced Modeling & Interpretation](#advanced-modeling--interpretation)  \n",
    "   &emsp;• [1. Notebook Overview](#1-notebook-overview)  \n",
    "   &emsp;• [2. Data Dictionary: Wheat Yield Dataset (Modeling Phase)](#2-data-dictionary-wheat-yield-dataset-modeling-phase)\n",
    "\n",
    "   &emsp;• [3. Baseline Modeling: Linear Regression](#3-baseline-modeling-linear-regression)  \n",
    "   &emsp;&emsp;– [3.1 Data Preparation and Train-Test Split](#31-data-preparation-and-train-test-split)  \n",
    "   &emsp;&emsp;– [3.2 Fitting the Baseline Model](#32-fitting-the-baseline-model)  \n",
    "   &emsp;&emsp;– [3.3 Evaluating Model Performance](#33-evaluating-model-performance)  \n",
    "   &emsp;&emsp;– [3.4 Interpretation](#34-interpretation)\n",
    "\n",
    "   &emsp;• [4. Advanced Modeling: Ridge Regression](#4-advanced-modeling-ridge-regression)  \n",
    "   &emsp;&emsp;– [4.1 Rationale & Approach](#41-rationale--approach)  \n",
    "   &emsp;&emsp;– [4.2 Hyperparameter Tuning: Grid Search for Optimal Alpha](#42-hyperparameter-tuning-grid-search-for-optimal-alpha)  \n",
    "   &emsp;&emsp;– [4.3 Interpretation](#43-interpretation)\n",
    "\n",
    "   &emsp;• [5. Advanced Modeling: Lasso Regression](#5-advanced-modeling-lasso-regression)  \n",
    "   &emsp;&emsp;– [5.1 Rationale & Approach](#51-rationale--approach)  \n",
    "   &emsp;&emsp;– [5.2 Hyperparameter Tuning: Grid Search for Optimal Alpha](#52-hyperparameter-tuning-grid-search-for-optimal-alpha)  \n",
    "   &emsp;&emsp;– [5.3 Interpretation](#53-interpretation)\n",
    "\n",
    "   &emsp;• [6. Advanced Modeling: Random Forest Regression](#6-advanced-modeling-random-forest-regression)  \n",
    "   &emsp;&emsp;– [6.1 Rationale & Approach](#61-rationale--approach)  \n",
    "   &emsp;&emsp;– [6.2 Baseline Random Forest Fit](#62-baseline-random-forest-fit)  \n",
    "   &emsp;&emsp;– [6.3 Interpretation](#63-interpretation)\n",
    "\n",
    "   &emsp;• [7. Hyperparameter Tuning & Cross-Validation](#7-hyperparameter-tuning--cross-validation)  \n",
    "   &emsp;&emsp;– [Rationale & Approach](#rationale--approach)  \n",
    "   &emsp;&emsp;– [7.1 Cross-Validated Linear Regression](#71-cross-validated-linear-regression)  \n",
    "   &emsp;&emsp;– [7.2 Cross-Validated Ridge Regression & Hyperparameter Tuning](#72-cross-validated-ridge-regression--hyperparameter-tuning)\n",
    "\n",
    "   &emsp;• [8. Model Explainability: SHAP Analysis](#8-model-explainability-shap-analysis)  \n",
    "   &emsp;&emsp;– [8.1 SHAP Analysis for Ridge Regression](#81-shap-analysis-for-ridge-regression)  \n",
    "   &emsp;&emsp;– [Interpretation: SHAP Model Explainability](#interpretation-shap-model-explainability)  \n",
    "   &emsp;&emsp;– [Global Insights (Summary Plot)](#global-insights-summary-plot)  \n",
    "   &emsp;&emsp;– [Local Insights (Waterfall Plot)](#local-insights-waterfall-plot)  \n",
    "   &emsp;&emsp;– [Business and Stakeholder Value](#business-and-stakeholder-value)\n",
    "\n",
    "   &emsp;• [9. Scenario Analysis: What-if Predictions](#9-scenario-analysis-what-if-predictions)  \n",
    "   &emsp;• [10. Model Comparison Summary](#10-model-comparison-summary)\n",
    "\n",
    "3. [Summary and Business Recommendations](#summary-and-business-recommendations)  \n",
    "   &emsp;• [Recap of the Problem and Approach](#recap-of-the-problem-and-approach)  \n",
    "   &emsp;• [Key Insights from EDA and Modeling](#key-insights-from-eda-and-modeling)  \n",
    "   &emsp;• [Model Performance (Non-Technical Summary)](#model-performance-non-technical-summary)  \n",
    "   &emsp;• [Business Recommendations](#business-recommendations)  \n",
    "   &emsp;• [Next Steps and Future Research](#next-steps-and-future-research)  \n",
    "   &emsp;• [Project Impact and Business Relevance](#project-impact-and-business-relevance)\n"
   ]
  },
  {
   "cell_type": "markdown",
   "id": "df8535a7-f808-42c8-b5e8-2d31d246ed63",
   "metadata": {},
   "source": [
    "# Project Introduction\n",
    "\n",
    "##  Motivation\n",
    "\n",
    "Growing up in a family of farmers, I have firsthand experience of the joys and the unpredictability that define agricultural life. Summers spent alongside my relatives in the fields of India exposed me to the real-world challenges that farmers face—especially the profound uncertainty caused by weather, resource constraints, and volatile market conditions.  \n",
    "Each season, decisions like planting dates, re-seeding after poor germination, or balancing investments in fertilizer and irrigation can make or break an entire year’s outcome. These challenges have ripple effects: a bad season not only impacts yield, but can strain family finances, supply chains, and even local food security.\n",
    "\n",
    "Despite advances in agri-tech, many farmers—especially smallholders—struggle to access timely, reliable forecasts that can guide smarter decisions. I believe that by combining data science and local knowledge, it’s possible to empower growers with more accurate, actionable insights.\n",
    "\n",
    "---\n",
    "\n",
    "##  Project Overview\n",
    "\n",
    "This capstone aims to develop a practical, data-driven **decision support tool** to predict wheat yield (tons per hectare) at the county level in Kansas. By leveraging historical records on climate, soil, and farm management practices, I seek to address the uncertainty that has long haunted farmers’ planning—enabling them to optimize resource use, reduce unnecessary risk, and ultimately secure better outcomes.\n",
    "\n",
    "---\n",
    "\n",
    "##  Strategic Summary: Progress So Far\n",
    "\n",
    "- **Sprint 1:** Defined the core problem, sourced and integrated multiple open datasets, and completed initial data wrangling and schema alignment.\n",
    "- **Sprint 2:** Executed advanced exploratory data analysis (EDA), engineered features, and developed baseline regression models. Evaluated models for accuracy and interpretability, and summarized actionable findings for agricultural stakeholders.\n",
    "- **Sprint 3, Phase 1:**  \n",
    "    - Applied rigorous, stepwise hypothesis testing and visual EDA for every major feature, clearly stating null and alternative hypotheses.\n",
    "    - **Identified rainfall and fertilizer use as the only features with meaningful, practical, and statistically significant relationships to wheat yield**.\n",
    "    - Demonstrated that temperature, days to harvest, soil type, region, and weather condition do **not** meaningfully impact yield in this dataset—based on formal statistical tests, correlations, and visual evidence.\n",
    "    - Built a cumulative, data-driven narrative to justify feature selection and deprioritization, ensuring all modeling steps are grounded in statistical reasoning.\n",
    "\n",
    "---\n",
    "\n",
    "##  Sprint 3 Focus\n",
    "\n",
    "- **Model Optimization:** Apply advanced regression techniques (regularization, boosting), hyperparameter tuning, and robust cross-validation to improve model accuracy—aiming for an 85% R² score or higher, where feasible, while emphasizing interpretability and practical value.\n",
    "- **Decision Support:** Prototype a workflow or interface that farmers, cooperatives, and local advisory groups could use to validate forecasts, compare scenarios, and support their decisions—independent of large corporate interests.\n",
    "- **Interpretation & Insight:** Use feature importance, SHAP values, and business context to explain what drives yield variation and how actionable these insights are for farmers.\n",
    "- **Stakeholder Empowerment:** Ensure the final product is accessible and trustworthy for growers, cooperatives, and rural advisors—helping them validate, challenge, or corroborate claims made by agribusinesses, suppliers, and insurers.\n",
    "\n",
    "---\n",
    "\n",
    "##  Dataset & Problem Framing\n",
    "\n",
    "- **Location:** Kansas, USA (county-level)\n",
    "- **Period:** 2010–2020 (subject to data availability)\n",
    "- **Size:** ~1 million records, 10 features\n",
    "- **Target:** Wheat yield (`Yield_tons_per_hectare`)\n",
    "- **Features:** Region, Soil Type, Crop, Rainfall, Temperature, Fertilizer & Irrigation Use, Weather Condition, Days to Harvest\n",
    "\n",
    "> **Goal:**  \n",
    "> Deliver a high-quality, interpretable predictive solution for wheat yield estimation in Kansas, with clear business value, real-world relevance, and a vision for empowering farmers and local advisors with better information.\n",
    "\n",
    "---\n",
    "\n",
    "##  Data-Driven Feature Selection (Summary of EDA Findings)\n",
    "\n",
    "- **Prioritized for Modeling:**  \n",
    "    - **Rainfall_mm** (strongest correlation with yield, r = 0.76, p ≈ 0)\n",
    "    - **Fertilizer_Used** (mean yield difference of +1.5 tons/ha, highly significant t-test)\n",
    "- **Deprioritized:**  \n",
    "    - Temperature, days to harvest, soil type, region, and weather condition (all show negligible or no significant effect on yield in this dataset, based on robust testing)\n",
    "\n",
    "This evidence-based feature selection will guide all subsequent modeling, ensuring that results are both statistically sound and agronomically meaningful.\n"
   ]
  },
  {
   "cell_type": "markdown",
   "id": "3d43ed94-1282-4873-9a38-1649466d56ee",
   "metadata": {},
   "source": [
    "# Advanced Modeling & Interpretation\n",
    "\n",
    "## 1. Notebook Overview\n",
    "\n",
    "Building directly on the findings from exploratory analysis and hypothesis testing, I am applying and optimizing a series of regression models to predict wheat yield.  \n",
    "All feature selection and modeling decisions are transparently informed by previous statistical evidence, prioritizing interpretability and practical relevance for agricultural stakeholders.\n",
    "\n"
   ]
  },
  {
   "cell_type": "code",
   "execution_count": 1,
   "id": "76cab089-8bc7-4de2-ac2a-ac61a1ce46c2",
   "metadata": {},
   "outputs": [
    {
     "data": {
      "text/html": [
       "<div>\n",
       "<style scoped>\n",
       "    .dataframe tbody tr th:only-of-type {\n",
       "        vertical-align: middle;\n",
       "    }\n",
       "\n",
       "    .dataframe tbody tr th {\n",
       "        vertical-align: top;\n",
       "    }\n",
       "\n",
       "    .dataframe thead th {\n",
       "        text-align: right;\n",
       "    }\n",
       "</style>\n",
       "<table border=\"1\" class=\"dataframe\">\n",
       "  <thead>\n",
       "    <tr style=\"text-align: right;\">\n",
       "      <th></th>\n",
       "      <th>Region</th>\n",
       "      <th>Soil_Type</th>\n",
       "      <th>Crop</th>\n",
       "      <th>Rainfall_mm</th>\n",
       "      <th>Temperature_Celsius</th>\n",
       "      <th>Fertilizer_Used</th>\n",
       "      <th>Irrigation_Used</th>\n",
       "      <th>Weather_Condition</th>\n",
       "      <th>Days_to_Harvest</th>\n",
       "      <th>Yield_tons_per_hectare</th>\n",
       "    </tr>\n",
       "  </thead>\n",
       "  <tbody>\n",
       "    <tr>\n",
       "      <th>4</th>\n",
       "      <td>south</td>\n",
       "      <td>silt</td>\n",
       "      <td>wheat</td>\n",
       "      <td>730.379174</td>\n",
       "      <td>31.620687</td>\n",
       "      <td>True</td>\n",
       "      <td>True</td>\n",
       "      <td>cloudy</td>\n",
       "      <td>110</td>\n",
       "      <td>7.248251</td>\n",
       "    </tr>\n",
       "    <tr>\n",
       "      <th>6</th>\n",
       "      <td>west</td>\n",
       "      <td>clay</td>\n",
       "      <td>wheat</td>\n",
       "      <td>357.902357</td>\n",
       "      <td>31.593431</td>\n",
       "      <td>False</td>\n",
       "      <td>False</td>\n",
       "      <td>rainy</td>\n",
       "      <td>90</td>\n",
       "      <td>2.652392</td>\n",
       "    </tr>\n",
       "    <tr>\n",
       "      <th>8</th>\n",
       "      <td>north</td>\n",
       "      <td>silt</td>\n",
       "      <td>wheat</td>\n",
       "      <td>181.587861</td>\n",
       "      <td>26.752729</td>\n",
       "      <td>True</td>\n",
       "      <td>False</td>\n",
       "      <td>sunny</td>\n",
       "      <td>127</td>\n",
       "      <td>2.943716</td>\n",
       "    </tr>\n",
       "    <tr>\n",
       "      <th>9</th>\n",
       "      <td>west</td>\n",
       "      <td>sandy</td>\n",
       "      <td>wheat</td>\n",
       "      <td>395.048968</td>\n",
       "      <td>17.646199</td>\n",
       "      <td>False</td>\n",
       "      <td>True</td>\n",
       "      <td>rainy</td>\n",
       "      <td>140</td>\n",
       "      <td>3.707293</td>\n",
       "    </tr>\n",
       "    <tr>\n",
       "      <th>10</th>\n",
       "      <td>north</td>\n",
       "      <td>peaty</td>\n",
       "      <td>wheat</td>\n",
       "      <td>385.135314</td>\n",
       "      <td>21.656192</td>\n",
       "      <td>False</td>\n",
       "      <td>False</td>\n",
       "      <td>sunny</td>\n",
       "      <td>73</td>\n",
       "      <td>2.564442</td>\n",
       "    </tr>\n",
       "  </tbody>\n",
       "</table>\n",
       "</div>"
      ],
      "text/plain": [
       "   Region Soil_Type   Crop  Rainfall_mm  Temperature_Celsius  Fertilizer_Used  \\\n",
       "4   south      silt  wheat   730.379174            31.620687             True   \n",
       "6    west      clay  wheat   357.902357            31.593431            False   \n",
       "8   north      silt  wheat   181.587861            26.752729             True   \n",
       "9    west     sandy  wheat   395.048968            17.646199            False   \n",
       "10  north     peaty  wheat   385.135314            21.656192            False   \n",
       "\n",
       "    Irrigation_Used Weather_Condition  Days_to_Harvest  Yield_tons_per_hectare  \n",
       "4              True            cloudy              110                7.248251  \n",
       "6             False             rainy               90                2.652392  \n",
       "8             False             sunny              127                2.943716  \n",
       "9              True             rainy              140                3.707293  \n",
       "10            False             sunny               73                2.564442  "
      ]
     },
     "execution_count": 1,
     "metadata": {},
     "output_type": "execute_result"
    }
   ],
   "source": [
    "import pandas as pd\n",
    "import numpy as np\n",
    "import matplotlib.pyplot as plt\n",
    "import seaborn as sns\n",
    "\n",
    "# Load the cleaned wheat dataset\n",
    "df = pd.read_csv('cleaned_agriculture_yield.csv')\n",
    "\n",
    "# If you're only modeling wheat, subset here:\n",
    "df_wheat = df[df['Crop'] == 'wheat'].copy()\n",
    "\n",
    "df_wheat.head()\n"
   ]
  },
  {
   "cell_type": "code",
   "execution_count": 2,
   "id": "a6f6c5ba-39d2-4bcc-9394-fd0d3af990e0",
   "metadata": {},
   "outputs": [
    {
     "name": "stdout",
     "output_type": "stream",
     "text": [
      "(166640, 10)\n",
      "<class 'pandas.core.frame.DataFrame'>\n",
      "Index: 166640 entries, 4 to 999767\n",
      "Data columns (total 10 columns):\n",
      " #   Column                  Non-Null Count   Dtype  \n",
      "---  ------                  --------------   -----  \n",
      " 0   Region                  166640 non-null  object \n",
      " 1   Soil_Type               166640 non-null  object \n",
      " 2   Crop                    166640 non-null  object \n",
      " 3   Rainfall_mm             166640 non-null  float64\n",
      " 4   Temperature_Celsius     166640 non-null  float64\n",
      " 5   Fertilizer_Used         166640 non-null  bool   \n",
      " 6   Irrigation_Used         166640 non-null  bool   \n",
      " 7   Weather_Condition       166640 non-null  object \n",
      " 8   Days_to_Harvest         166640 non-null  int64  \n",
      " 9   Yield_tons_per_hectare  166640 non-null  float64\n",
      "dtypes: bool(2), float64(3), int64(1), object(4)\n",
      "memory usage: 11.8+ MB\n"
     ]
    }
   ],
   "source": [
    "print(df_wheat.shape)\n",
    "df_wheat.info()"
   ]
  },
  {
   "cell_type": "markdown",
   "id": "74656849-2eef-4c90-a489-ecfb10525116",
   "metadata": {},
   "source": [
    "## 2. Data Dictionary: Wheat Yield Dataset (Modeling Phase)\n",
    "\n",
    "| Column                   | Description                                                        | Data Type   | Example Value      |\n",
    "|--------------------------|--------------------------------------------------------------------|-------------|--------------------|\n",
    "| Region                   | Geographic region within Kansas                                    | Categorical | \"west\", \"north\"    |\n",
    "| Soil_Type                | Dominant soil type in the field                                   | Categorical | \"sandy\", \"clay\"    |\n",
    "| Crop                     | Crop type (filtered to \"wheat\" for this analysis)                 | Categorical | \"wheat\"            |\n",
    "| Rainfall_mm              | Total rainfall during the growing season (millimeters)            | Float       | 950.23             |\n",
    "| Temperature_Celsius      | Average temperature during the growing season (°C)                | Float       | 22.8               |\n",
    "| Fertilizer_Used          | Whether fertilizer was used (True/False)                          | Boolean     | True               |\n",
    "| Irrigation_Used          | Whether irrigation was used (True/False)                          | Boolean     | False              |\n",
    "| Weather_Condition        | Generalized seasonal weather condition                            | Categorical | \"cloudy\", \"sunny\"  |\n",
    "| Days_to_Harvest          | Number of days from planting to harvest                           | Integer     | 120                |\n",
    "| Yield_tons_per_hectare   | Observed wheat yield at harvest (target variable)                 | Float       | 7.23               |\n",
    "\n",
    "**Dataset Shape:** 166,640 rows × 10 columns  \n",
    "This dataset includes only wheat records, as identified by the `Crop` column, ensuring a focused analysis for yield prediction modeling.\n"
   ]
  },
  {
   "cell_type": "code",
   "execution_count": null,
   "id": "6050f56c-4d53-4da9-a8c0-c05e29d92541",
   "metadata": {},
   "outputs": [],
   "source": []
  },
  {
   "cell_type": "markdown",
   "id": "44123aad-1828-4707-b521-0596a58dc6df",
   "metadata": {},
   "source": [
    "## 3. Baseline Modeling: Linear Regression\n",
    "\n",
    "In this section, I am establishing a baseline for wheat yield prediction using ordinary least squares linear regression.  \n",
    "Baseline models are critical in any predictive workflow as they set a reference point for model improvement, provide initial interpretability, and help validate data preparation steps.\n",
    "\n",
    "**Rationale:**  \n",
    "- I am prioritizing **Rainfall_mm** and **Fertilizer_Used** as predictors, based on robust evidence from previous exploratory analysis and hypothesis testing.\n",
    "- By fitting a linear regression model, I can quantify how changes in rainfall and fertilizer use impact yield and establish benchmark performance metrics for later, more advanced models.\n",
    "\n",
    "---\n",
    "\n",
    "### 3.1 Data Preparation and Train-Test Split\n",
    "\n",
    "To ensure unbiased evaluation, I am splitting the data into training and testing sets, maintaining reproducibility by setting a random seed.\n"
   ]
  },
  {
   "cell_type": "code",
   "execution_count": 8,
   "id": "be5da491-c6f3-48a3-b04d-8933a8f31f10",
   "metadata": {},
   "outputs": [],
   "source": [
    "# Data prep for modeling\n",
    "from sklearn.model_selection import train_test_split\n",
    "\n",
    "features = ['Rainfall_mm', 'Fertilizer_Used']\n",
    "X = df_wheat[features].copy()\n",
    "X['Fertilizer_Used'] = X['Fertilizer_Used'].astype(int)  # Ensure numerical\n",
    "\n",
    "y = df_wheat['Yield_tons_per_hectare']\n",
    "\n",
    "# Split for reproducibility and fair model assessment\n",
    "X_train, X_test, y_train, y_test = train_test_split(X, y, test_size=0.2, random_state=42)"
   ]
  },
  {
   "cell_type": "markdown",
   "id": "34273164-32d3-49fa-8d93-bd67e7982023",
   "metadata": {},
   "source": [
    "### 3.2 Fitting the Baseline Model\n",
    "\n",
    "I am now fitting an ordinary least squares regression using scikit-learn, predicting wheat yield as a linear function of rainfall and fertilizer use."
   ]
  },
  {
   "cell_type": "code",
   "execution_count": 11,
   "id": "3fdc7559-a9e7-43b6-9d17-142c6d7bac35",
   "metadata": {},
   "outputs": [],
   "source": [
    "from sklearn.linear_model import LinearRegression\n",
    "from sklearn.metrics import mean_squared_error, mean_absolute_error, r2_score\n",
    "import numpy as np"
   ]
  },
  {
   "cell_type": "code",
   "execution_count": 13,
   "id": "f4cb546c-3fcc-4a1e-9303-7b33beb47e89",
   "metadata": {},
   "outputs": [],
   "source": [
    "lr = LinearRegression()\n",
    "lr.fit(X_train, y_train)\n",
    "y_pred = lr.predict(X_test)\n"
   ]
  },
  {
   "cell_type": "markdown",
   "id": "46a29aae-5194-4eff-91b6-da6a3c75ab20",
   "metadata": {},
   "source": [
    "### 3.3 Evaluating Model Performance\n",
    "To objectively assess the baseline model, I am applying three common regression metrics:\n",
    "\n",
    "Root Mean Squared Error (RMSE): Indicates the typical error in the same units as yield.\n",
    "Mean Absolute Error (MAE): Shows the average magnitude of errors.\n",
    "R² (Coefficient of Determination): Measures the proportion of variance explained."
   ]
  },
  {
   "cell_type": "code",
   "execution_count": 16,
   "id": "c596c376-291c-4fd3-9e74-65088c1769e2",
   "metadata": {},
   "outputs": [
    {
     "name": "stdout",
     "output_type": "stream",
     "text": [
      "Linear Regression - RMSE: 0.79, MAE: 0.66, R²: 0.78\n"
     ]
    }
   ],
   "source": [
    "rmse = np.sqrt(mean_squared_error(y_test, y_pred))\n",
    "mae = mean_absolute_error(y_test, y_pred)\n",
    "r2 = r2_score(y_test, y_pred)\n",
    "\n",
    "print(f\"Linear Regression - RMSE: {rmse:.2f}, MAE: {mae:.2f}, R²: {r2:.2f}\")"
   ]
  },
  {
   "cell_type": "markdown",
   "id": "bf19d9cc-5bd9-4917-bddd-85f3d54bd8c9",
   "metadata": {},
   "source": [
    "### 3.4 Interpretation\n",
    "\n",
    "By applying linear regression, I am establishing a strong baseline for wheat yield prediction using only rainfall and fertilizer use as predictors.\n",
    "\n",
    "- The model achieves an **R² of 0.78**, meaning it explains 78% of the variation in wheat yield across the test set. This suggests that the selected features capture most of the yield-driving signal in the data.\n",
    "- The **RMSE of 0.79 tons/hectare** and **MAE of 0.66 tons/hectare** indicate that the model’s typical error is less than a ton per hectare. Given that yield values in the dataset range from close to 0 up to nearly 10 tons/hectare, this level of error is reasonable and practically useful for forecasting.\n",
    "- These results confirm that the combination of rainfall and fertilizer use provides a robust, interpretable baseline for wheat yield prediction in Kansas.\n",
    "\n",
    "I will be using these metrics as a benchmark to evaluate the impact of advanced models and additional optimization strategies in subsequent sections.\n"
   ]
  },
  {
   "cell_type": "markdown",
   "id": "e4f46429-61e6-44b8-9651-4120ba85d78e",
   "metadata": {},
   "source": [
    "## 4. Advanced Modeling: Ridge Regression\n",
    "\n",
    "### 4.1 Rationale & Approach\n",
    "\n",
    "To address potential issues of overfitting and enhance model generalizability, I am applying **Ridge Regression**, a regularized linear modeling technique. Ridge regression penalizes large coefficient values, which can be particularly beneficial when there is multicollinearity or a risk of overfitting on training data. This step builds on my baseline linear regression and is a common, professional practice for improving model robustness in predictive analytics.\n",
    "\n",
    "My objectives in this section are:\n",
    "- To identify whether regularization improves or maintains predictive performance compared to the baseline.\n",
    "- To analyze the sensitivity of model results to the regularization parameter (`alpha`).\n",
    "- To ensure model interpretability remains high for business and agronomic decision-making.\n",
    "\n",
    "---\n",
    "\n",
    "### 4.2 Hyperparameter Tuning: Grid Search for Optimal Alpha\n",
    "\n",
    "I am using scikit-learn’s `GridSearchCV` to perform a thorough and systematic search for the best value of `alpha` (the regularization strength). By evaluating a range of alpha values with cross-validation, I ensure the model is tuned for generalizable accuracy, not just fit to the training set.\n"
   ]
  },
  {
   "cell_type": "code",
   "execution_count": 20,
   "id": "042cffad-4cd0-4c4c-bf27-d56f98afc0c1",
   "metadata": {},
   "outputs": [],
   "source": [
    "from sklearn.linear_model import Ridge\n",
    "from sklearn.model_selection import GridSearchCV"
   ]
  },
  {
   "cell_type": "code",
   "execution_count": 22,
   "id": "734547de-d482-428e-9f82-e224a90640c3",
   "metadata": {},
   "outputs": [
    {
     "name": "stdout",
     "output_type": "stream",
     "text": [
      "Best alpha for Ridge Regression: 0.001\n"
     ]
    }
   ],
   "source": [
    "# Ridge regression with grid search\n",
    "alphas = np.logspace(-3, 3, 13)  # Covers a wide range from 0.001 to 1000\n",
    "\n",
    "ridge = Ridge()\n",
    "param_grid = {'alpha': alphas}\n",
    "grid_search = GridSearchCV(ridge, param_grid, cv=5, scoring='neg_root_mean_squared_error')\n",
    "grid_search.fit(X_train, y_train)\n",
    "\n",
    "best_alpha = grid_search.best_params_['alpha']\n",
    "print(f\"Best alpha for Ridge Regression: {best_alpha}\")"
   ]
  },
  {
   "cell_type": "code",
   "execution_count": 24,
   "id": "9ae2784a-97b5-442c-bfea-99f6a3743c74",
   "metadata": {},
   "outputs": [],
   "source": [
    "# Fit the model with the best alpha\n",
    "ridge_best = Ridge(alpha=best_alpha)\n",
    "ridge_best.fit(X_train, y_train)\n",
    "y_pred_ridge = ridge_best.predict(X_test)"
   ]
  },
  {
   "cell_type": "code",
   "execution_count": 26,
   "id": "7367c686-d41f-4746-9854-267692b5b9ec",
   "metadata": {},
   "outputs": [
    {
     "name": "stdout",
     "output_type": "stream",
     "text": [
      "Ridge Regression - RMSE: 0.79, MAE: 0.66, R²: 0.78\n"
     ]
    }
   ],
   "source": [
    "# Evaluate performance\n",
    "rmse_ridge = np.sqrt(mean_squared_error(y_test, y_pred_ridge))\n",
    "mae_ridge = mean_absolute_error(y_test, y_pred_ridge)\n",
    "r2_ridge = r2_score(y_test, y_pred_ridge)\n",
    "\n",
    "print(f\"Ridge Regression - RMSE: {rmse_ridge:.2f}, MAE: {mae_ridge:.2f}, R²: {r2_ridge:.2f}\")"
   ]
  },
  {
   "cell_type": "markdown",
   "id": "bc7a788b-b833-4743-9343-fa1c9727b1bb",
   "metadata": {},
   "source": [
    "### 4.3 Interpretation\n",
    "\n",
    "By applying Ridge Regression and tuning the regularization parameter via cross-validation, I am evaluating whether adding a penalty for large coefficient values can improve or stabilize predictive performance compared to the baseline linear regression.\n",
    "\n",
    "- The **optimal alpha value** selected by grid search is **0.001**, which is at the lower end of the tested range. This suggests that only minimal regularization is required for this modeling problem.\n",
    "- The resulting **RMSE (0.79)**, **MAE (0.66)**, and **R² (0.78)** are identical to the baseline linear regression model, indicating that the data is already well-structured and that the risk of overfitting from large coefficients is low for these features.\n",
    "- From a business and agronomic perspective, this confirms that the predictive relationship between rainfall, fertilizer use, and wheat yield is strong, direct, and stable—additional complexity or regularization does not improve performance for this dataset.\n",
    "\n",
    "I am concluding that while regularization is an essential best practice in model development, in this specific context, the simplicity and transparency of the baseline model are already sufficient to achieve robust, generalizable results.  \n",
    "This finding supports continued focus on interpretable models, unless future feature engineering introduces additional complexity or multicollinearity.\n"
   ]
  },
  {
   "cell_type": "markdown",
   "id": "c71b2281-9db4-4e3d-94e5-d9eb81e70dab",
   "metadata": {},
   "source": [
    "## 5. Advanced Modeling: Lasso Regression\n",
    "\n",
    "### 5.1 Rationale & Approach\n",
    "\n",
    "I am now applying **Lasso Regression** as a further extension of linear modeling. Lasso adds L1 regularization, which can drive less relevant feature coefficients exactly to zero—effectively acting as an automatic feature selector.  \n",
    "In cases with many features or potential multicollinearity, Lasso is particularly useful. Although my current model uses only two predictors, it remains important to confirm model robustness and ensure best practices are followed.\n",
    "\n",
    "My objectives here are:\n",
    "- To observe whether L1 regularization provides any improvement or changes in feature weighting.\n",
    "- To confirm that both model simplicity and predictive accuracy are retained.\n",
    "\n",
    "---\n",
    "\n",
    "### 5.2 Hyperparameter Tuning: Grid Search for Optimal Alpha\n",
    "\n",
    "I am performing a systematic search for the optimal `alpha` parameter for Lasso Regression using cross-validation, ensuring that the regularization strength is tuned for maximum generalizability.\n"
   ]
  },
  {
   "cell_type": "code",
   "execution_count": 30,
   "id": "e99ca00d-3aca-414f-aa57-2de24f60bb98",
   "metadata": {},
   "outputs": [],
   "source": [
    "from sklearn.linear_model import Lasso"
   ]
  },
  {
   "cell_type": "code",
   "execution_count": 32,
   "id": "88e919a0-8eb9-4c0c-a1d1-6d2077e862a9",
   "metadata": {},
   "outputs": [
    {
     "name": "stdout",
     "output_type": "stream",
     "text": [
      "Best alpha for Lasso Regression: 0.001\n"
     ]
    }
   ],
   "source": [
    "# Lasso regression with grid search\n",
    "lasso = Lasso(max_iter=10000)  # high max_iter for convergence\n",
    "param_grid = {'alpha': alphas}\n",
    "grid_search_lasso = GridSearchCV(lasso, param_grid, cv=5, scoring='neg_root_mean_squared_error')\n",
    "grid_search_lasso.fit(X_train, y_train)\n",
    "\n",
    "best_alpha_lasso = grid_search_lasso.best_params_['alpha']\n",
    "print(f\"Best alpha for Lasso Regression: {best_alpha_lasso}\")\n"
   ]
  },
  {
   "cell_type": "code",
   "execution_count": 34,
   "id": "d55c41ee-29ec-43b3-8ce8-7229e340527a",
   "metadata": {},
   "outputs": [],
   "source": [
    "# Fitting the model with the best alpha\n",
    "lasso_best = Lasso(alpha=best_alpha_lasso, max_iter=10000)\n",
    "lasso_best.fit(X_train, y_train)\n",
    "y_pred_lasso = lasso_best.predict(X_test)\n"
   ]
  },
  {
   "cell_type": "code",
   "execution_count": 36,
   "id": "42672ac7-3e35-4fda-94f1-d5473901fdf9",
   "metadata": {},
   "outputs": [
    {
     "name": "stdout",
     "output_type": "stream",
     "text": [
      "Lasso Regression - RMSE: 0.79, MAE: 0.66, R²: 0.78\n"
     ]
    }
   ],
   "source": [
    "# Evaluating performance\n",
    "rmse_lasso = np.sqrt(mean_squared_error(y_test, y_pred_lasso))\n",
    "mae_lasso = mean_absolute_error(y_test, y_pred_lasso)\n",
    "r2_lasso = r2_score(y_test, y_pred_lasso)\n",
    "\n",
    "print(f\"Lasso Regression - RMSE: {rmse_lasso:.2f}, MAE: {mae_lasso:.2f}, R²: {r2_lasso:.2f}\")"
   ]
  },
  {
   "cell_type": "markdown",
   "id": "89c09742-0f78-42fc-8b77-cbb1cb24e231",
   "metadata": {},
   "source": [
    "### 5.3 Interpretation\n",
    "\n",
    "By applying Lasso Regression with cross-validated alpha tuning, I am evaluating whether L1 regularization—known for its feature selection properties—offers any predictive or practical advantage over standard linear and ridge regression in this context.\n",
    "\n",
    "- The **optimal alpha value** for Lasso is again **0.001**, mirroring Ridge and confirming that only minimal regularization is required given the strength and clarity of the predictors.\n",
    "- The model achieves an **RMSE of 0.79**, **MAE of 0.66**, and **R² of 0.78**—identical to both baseline and ridge models.\n",
    "- Because only two features are present and both are strongly relevant, Lasso does not drive any coefficients to zero. The model retains both predictors with weights similar to standard linear regression.\n",
    "- This result confirms the stability and robustness of my feature selection process, as well as the interpretability and parsimony of the final model.\n",
    "\n",
    "From a business and deployment perspective, I am demonstrating that advanced regularization techniques are best practice, but in this scenario, the simple, interpretable linear model is already sufficient to deliver high predictive accuracy for wheat yield, without unnecessary model complexity.\n",
    "\n",
    "Moving forward, I will be applying tree-based models (such as Random Forest) to determine if nonlinear or interaction effects can further improve accuracy or offer new insights.\n"
   ]
  },
  {
   "cell_type": "markdown",
   "id": "d5610475-1ce6-47df-93d0-c431144c7017",
   "metadata": {},
   "source": [
    "## 6. Advanced Modeling: Random Forest Regression\n",
    "\n",
    "### 6.1 Rationale & Approach\n",
    "\n",
    "I am now applying **Random Forest Regression**, an ensemble-based machine learning method that captures non-linear relationships and feature interactions which linear models may miss.  \n",
    "Random Forests are robust to outliers, often outperform simple regressors on complex data, and provide valuable feature importance insights for interpretation and business use.\n",
    "\n",
    "**Objectives:**\n",
    "- Assess whether Random Forest improves upon linear models in predictive accuracy.\n",
    "- Analyze feature importances to confirm or challenge prior findings.\n",
    "- Set the stage for advanced hyperparameter tuning on my best-performing model.\n",
    "\n",
    "---\n",
    "\n",
    "### 6.2 Baseline Random Forest Fit\n",
    "\n",
    "I am first fitting a Random Forest with default parameters to establish a baseline before hyperparameter tuning.\n"
   ]
  },
  {
   "cell_type": "code",
   "execution_count": 40,
   "id": "1da06ece-72b5-4049-b05d-9397a7d955f5",
   "metadata": {},
   "outputs": [],
   "source": [
    "from sklearn.ensemble import RandomForestRegressor"
   ]
  },
  {
   "cell_type": "code",
   "execution_count": 42,
   "id": "9bb8c84f-1c53-4733-879a-b73646224b1c",
   "metadata": {},
   "outputs": [],
   "source": [
    "rf = RandomForestRegressor(n_estimators=100, random_state=42)\n",
    "rf.fit(X_train, y_train)\n",
    "y_pred_rf = rf.predict(X_test)"
   ]
  },
  {
   "cell_type": "code",
   "execution_count": 44,
   "id": "6dd05c57-298b-423d-a762-a577dc475058",
   "metadata": {},
   "outputs": [
    {
     "name": "stdout",
     "output_type": "stream",
     "text": [
      "Random Forest - RMSE: 0.96, MAE: 0.78, R²: 0.68\n"
     ]
    }
   ],
   "source": [
    "# Evaluating performance\n",
    "rmse_rf = np.sqrt(mean_squared_error(y_test, y_pred_rf))\n",
    "mae_rf = mean_absolute_error(y_test, y_pred_rf)\n",
    "r2_rf = r2_score(y_test, y_pred_rf)\n",
    "\n",
    "print(f\"Random Forest - RMSE: {rmse_rf:.2f}, MAE: {mae_rf:.2f}, R²: {r2_rf:.2f}\")"
   ]
  },
  {
   "cell_type": "code",
   "execution_count": 46,
   "id": "d5c0570f-2374-4f80-956f-b7112b264169",
   "metadata": {},
   "outputs": [
    {
     "data": {
      "image/png": "[encoded data removed]",
      "text/plain": [
       "<Figure size 600x300 with 1 Axes>"
      ]
     },
     "metadata": {},
     "output_type": "display_data"
    }
   ],
   "source": [
    "# Feature importances\n",
    "importances = pd.Series(rf.feature_importances_, index=X_train.columns)\n",
    "importances.sort_values(ascending=False).plot(kind='bar', figsize=(6, 3), title=\"Random Forest Feature Importances\")\n",
    "plt.ylabel(\"Importance Score\")\n",
    "plt.show()"
   ]
  },
  {
   "cell_type": "markdown",
   "id": "238e1004-16d2-47cb-b8e8-d67d7349d781",
   "metadata": {},
   "source": [
    "### 6.3 Interpretation\n",
    "\n",
    "By applying Random Forest Regression, I am evaluating whether a flexible, ensemble-based model can capture any non-linear or interaction effects missed by linear models.\n",
    "\n",
    "- The **Random Forest achieves an RMSE of 0.96**, MAE of 0.78, and R² of 0.68. This performance is **slightly worse** than my linear and regularized regression models, indicating that, in this dataset, the yield prediction task is primarily linear and additive in nature.\n",
    "- The feature importance plot reveals that **rainfall remains the dominant driver of wheat yield**, with an importance score above 0.8, while fertilizer u\n"
   ]
  },
  {
   "cell_type": "markdown",
   "id": "93c8aefe-ddcb-474b-ab87-98aa7a7f90d6",
   "metadata": {},
   "source": [
    "## 7. Hyperparameter Tuning & Cross-Validation\n",
    "\n",
    "### Rationale & Approach\n",
    "\n",
    "To ensure that my linear regression model delivers robust and generalizable predictions, I am applying k-fold cross-validation and hyperparameter tuning.  \n",
    "Cross-validation helps evaluate how the model performs on different subsets of the data, reducing the risk of overfitting and providing a more reliable estimate of real-world accuracy. For regularized models like Ridge, hyperparameter tuning ensures the regularization strength is optimal, further stabilizing model performance.\n",
    "\n",
    "---\n",
    "\n",
    "### 7.1 Cross-Validated Linear Regression\n",
    "\n",
    "I am applying 5-fold cross-validation to my linear regression model to assess the variability and stability of its predictive accuracy across different splits of the data.  \n",
    "This process helps confirm that the observed model performance is consistent and not due to the particularities of a single train-test split.\n"
   ]
  },
  {
   "cell_type": "code",
   "execution_count": 50,
   "id": "4d44e72d-81a7-4e87-baf5-fd94a7b95953",
   "metadata": {},
   "outputs": [],
   "source": [
    "from sklearn.model_selection import cross_val_score"
   ]
  },
  {
   "cell_type": "code",
   "execution_count": 52,
   "id": "b323d528-fa32-496f-a350-9686e40b8111",
   "metadata": {},
   "outputs": [
    {
     "name": "stdout",
     "output_type": "stream",
     "text": [
      "Linear Regression Cross-Validated RMSE scores: [0.79 0.79 0.79 0.8  0.79]\n",
      "Mean CV RMSE: 0.79 Std: 0.0\n"
     ]
    }
   ],
   "source": [
    "# Using negative RMSE for scoring, as sklearn requires higher scores to be better\n",
    "cv_scores = cross_val_score(\n",
    "    LinearRegression(), X, y, cv=5, scoring='neg_root_mean_squared_error'\n",
    ")\n",
    "\n",
    "# Convert to positive RMSE\n",
    "cv_rmse = -cv_scores\n",
    "print(\"Linear Regression Cross-Validated RMSE scores:\", np.round(cv_rmse, 2))\n",
    "print(\"Mean CV RMSE:\", np.mean(cv_rmse).round(2), \"Std:\", np.std(cv_rmse).round(2))"
   ]
  },
  {
   "cell_type": "markdown",
   "id": "428c6c0f-ca30-464b-8a06-e80f05f52975",
   "metadata": {},
   "source": [
    " **Interpretation: Cross-Validation Results**\n",
    "\n",
    "By applying 5-fold cross-validation to my linear regression model, I am evaluating the stability and reliability of the model’s predictive accuracy across multiple splits of the data.\n",
    "\n",
    "- The cross-validated RMSE scores are remarkably consistent: [0.79, 0.79, 0.79, 0.80, 0.79].\n",
    "- The **mean cross-validated RMSE is 0.79**, with a **standard deviation of 0.00** (rounded to two decimal places).\n",
    "\n",
    "This high degree of stability confirms that my model’s predictive performance is not dependent on a particular train-test split, and is likely to generalize well to new, unseen data.  \n",
    "From a business perspective, this consistency is crucial: stakeholders can trust that yield forecasts will remain reliable, regardless of seasonal variation or sampling differences.\n",
    "\n",
    "These results reinforce my earlier findings that a simple, interpretable linear model—using rainfall and fertilizer use—delivers robust and actionable yield predictions for Kansas wheat.\n"
   ]
  },
  {
   "cell_type": "markdown",
   "id": "469f332c-369e-418e-93a8-3da9d9ea6785",
   "metadata": {},
   "source": [
    "### 7.2 Cross-Validated Ridge Regression & Hyperparameter Tuning\n",
    "\n",
    "Building on my earlier Ridge analysis, I am now applying k-fold cross-validation in combination with a grid search for the regularization parameter (`alpha`).  \n",
    "This approach allows me to systematically evaluate a range of alpha values across multiple data splits, ensuring the final model is both optimally tuned and generalizable.\n",
    "\n",
    "My objectives in this step are:\n",
    "- To identify the most stable, accurate Ridge model.\n",
    "- To compare its performance with the standard linear regression and confirm whether regularization brings any meaningful improvement.\n"
   ]
  },
  {
   "cell_type": "code",
   "execution_count": 56,
   "id": "03141014-f014-4337-8691-45e5ef6d8b24",
   "metadata": {},
   "outputs": [],
   "source": [
    "from sklearn.linear_model import Ridge\n",
    "from sklearn.model_selection import GridSearchCV"
   ]
  },
  {
   "cell_type": "code",
   "execution_count": 58,
   "id": "66971c1d-403f-412e-a4f3-44783cfadd1a",
   "metadata": {},
   "outputs": [
    {
     "name": "stdout",
     "output_type": "stream",
     "text": [
      "Best alpha (cross-validated): 0.31622776601683794\n"
     ]
    }
   ],
   "source": [
    "alphas = np.logspace(-3, 3, 13)  # 0.001 to 1000, as before\n",
    "\n",
    "ridge = Ridge()\n",
    "param_grid = {'alpha': alphas}\n",
    "grid_search_cv = GridSearchCV(\n",
    "    ridge, param_grid, cv=5, scoring='neg_root_mean_squared_error'\n",
    ")\n",
    "grid_search_cv.fit(X, y)\n",
    "\n",
    "print(f\"Best alpha (cross-validated): {grid_search_cv.best_params_['alpha']}\")\n"
   ]
  },
  {
   "cell_type": "code",
   "execution_count": 60,
   "id": "3a269a3e-e7a1-4483-95f2-e8b335560677",
   "metadata": {},
   "outputs": [
    {
     "name": "stdout",
     "output_type": "stream",
     "text": [
      "Ridge Regression Mean CV RMSE: 0.79\n"
     ]
    }
   ],
   "source": [
    "# Cross-validated RMSE for best Ridge model\n",
    "cv_rmse_ridge = -grid_search_cv.best_score_\n",
    "print(f\"Ridge Regression Mean CV RMSE: {cv_rmse_ridge:.2f}\")"
   ]
  },
  {
   "cell_type": "markdown",
   "id": "c524d847-e44f-4290-bc31-18e482fa7f9a",
   "metadata": {},
   "source": [
    " **Interpretation: Cross-Validated Ridge Regression**\n",
    "\n",
    "By applying grid search with cross-validation, I am systematically optimizing the regularization strength for Ridge Regression and assessing its stability across multiple data splits.\n",
    "\n",
    "- The **best cross-validated alpha** is **0.32**, representing a modest level of regularization.\n",
    "- The **mean cross-validated RMSE for Ridge Regression is 0.79**, matching the performance of standard linear regression.\n",
    "\n",
    "These results confirm that the model’s predictive accuracy is highly stable and that introducing regularization does not improve performance for this particular dataset and feature set.  \n",
    "This finding further validates my prior feature selection and preprocessing steps—my modeling pipeline is already robust, generalizable, and not at risk of overfitting with the current predictors.\n",
    "\n",
    "From a professional and business perspective, this provides confidence that stakeholders can rely on the simplicity and transparency of the linear model without sacrificing accuracy or stability.\n",
    "\n",
    "---\n",
    "\n",
    "**Next:**  \n",
    "I will now move forward to **model explainability** using SHAP values, which will provide detailed insights into how each feature drives yield predictions—both for individual forecasts and across the entire dataset.\n"
   ]
  },
  {
   "cell_type": "markdown",
   "id": "4fe3c278-9984-4d5a-a166-1e323bd9ad1c",
   "metadata": {},
   "source": [
    "## 8. Model Explainability: SHAP Analysis\n",
    "\n",
    "**Rationale & Approach**\n",
    "\n",
    "To enhance trust and transparency in my predictive model, I am applying **SHAP (SHapley Additive exPlanations)**—a leading explainability tool in modern data science. SHAP values quantify the contribution of each feature to individual predictions and to the model’s overall output.\n",
    "\n",
    "**Objectives:**\n",
    "- To visualize how rainfall and fertilizer use impact yield predictions at both the global (dataset-wide) and local (single observation) level.\n",
    "- To provide actionable, business-facing insights that can support agronomic decision-making.\n",
    "\n",
    "---\n",
    "\n",
    "### 8.1 SHAP Analysis for Ridge Regression\n"
   ]
  },
  {
   "cell_type": "code",
   "execution_count": 109,
   "id": "1bdc9dfa-be75-4969-963a-e173bb51300d",
   "metadata": {},
   "outputs": [
    {
     "name": "stdout",
     "output_type": "stream",
     "text": [
      "Collecting shap\n",
      "  Downloading shap-0.47.2-cp311-cp311-macosx_11_0_arm64.whl.metadata (25 kB)\n",
      "Requirement already satisfied: numpy in /opt/anaconda3/lib/python3.11/site-packages (from shap) (1.26.4)\n",
      "Requirement already satisfied: scipy in /opt/anaconda3/lib/python3.11/site-packages (from shap) (1.11.4)\n",
      "Requirement already satisfied: scikit-learn in /opt/anaconda3/lib/python3.11/site-packages (from shap) (1.6.1)\n",
      "Requirement already satisfied: pandas in /opt/anaconda3/lib/python3.11/site-packages (from shap) (2.1.4)\n",
      "Requirement already satisfied: tqdm>=4.27.0 in /opt/anaconda3/lib/python3.11/site-packages (from shap) (4.65.0)\n",
      "Requirement already satisfied: packaging>20.9 in /opt/anaconda3/lib/python3.11/site-packages (from shap) (23.1)\n",
      "Collecting slicer==0.0.8 (from shap)\n",
      "  Downloading slicer-0.0.8-py3-none-any.whl.metadata (4.0 kB)\n",
      "Requirement already satisfied: numba>=0.54 in /opt/anaconda3/lib/python3.11/site-packages (from shap) (0.59.0)\n",
      "Requirement already satisfied: cloudpickle in /opt/anaconda3/lib/python3.11/site-packages (from shap) (2.2.1)\n",
      "Requirement already satisfied: typing-extensions in /opt/anaconda3/lib/python3.11/site-packages (from shap) (4.9.0)\n",
      "Requirement already satisfied: llvmlite<0.43,>=0.42.0dev0 in /opt/anaconda3/lib/python3.11/site-packages (from numba>=0.54->shap) (0.42.0)\n",
      "Requirement already satisfied: python-dateutil>=2.8.2 in /opt/anaconda3/lib/python3.11/site-packages (from pandas->shap) (2.8.2)\n",
      "Requirement already satisfied: pytz>=2020.1 in /opt/anaconda3/lib/python3.11/site-packages (from pandas->shap) (2023.3.post1)\n",
      "Requirement already satisfied: tzdata>=2022.1 in /opt/anaconda3/lib/python3.11/site-packages (from pandas->shap) (2023.3)\n",
      "Requirement already satisfied: joblib>=1.2.0 in /opt/anaconda3/lib/python3.11/site-packages (from scikit-learn->shap) (1.2.0)\n",
      "Requirement already satisfied: threadpoolctl>=3.1.0 in /opt/anaconda3/lib/python3.11/site-packages (from scikit-learn->shap) (3.6.0)\n",
      "Requirement already satisfied: six>=1.5 in /opt/anaconda3/lib/python3.11/site-packages (from python-dateutil>=2.8.2->pandas->shap) (1.16.0)\n",
      "Downloading shap-0.47.2-cp311-cp311-macosx_11_0_arm64.whl (546 kB)\n",
      "\u001b[2K   \u001b[90m━━━━━━━━━━━━━━━━━━━━━━━━━━━━━━━━━━━━━━━━\u001b[0m \u001b[32m546.4/546.4 kB\u001b[0m \u001b[31m10.9 MB/s\u001b[0m eta \u001b[36m0:00:00\u001b[0ma \u001b[36m0:00:01\u001b[0m\n",
      "\u001b[?25hDownloading slicer-0.0.8-py3-none-any.whl (15 kB)\n",
      "Installing collected packages: slicer, shap\n",
      "Successfully installed shap-0.47.2 slicer-0.0.8\n",
      "Note: you may need to restart the kernel to use updated packages.\n"
     ]
    }
   ],
   "source": [
    "pip install shap"
   ]
  },
  {
   "cell_type": "code",
   "execution_count": 94,
   "id": "399ded08-4f46-450a-b5cc-a5d895a516f6",
   "metadata": {},
   "outputs": [],
   "source": [
    "import shap"
   ]
  },
  {
   "cell_type": "code",
   "execution_count": 96,
   "id": "8f7fbfd7-4463-47d3-9c75-b548113faf2f",
   "metadata": {},
   "outputs": [],
   "source": [
    "# Fit the best Ridge model on the full training set for SHAP analysis\n",
    "ridge_best = Ridge(alpha=0.32)\n",
    "ridge_best.fit(X_train, y_train)\n",
    "\n",
    "# SHAP explainer for linear models\n",
    "explainer = shap.Explainer(ridge_best, X_train)\n",
    "shap_values = explainer(X_test)"
   ]
  },
  {
   "cell_type": "code",
   "execution_count": 98,
   "id": "aed35006-bd3f-4afd-a56c-3eee53ac4692",
   "metadata": {},
   "outputs": [
    {
     "data": {
      "image/png": "[encoded data removed]",
      "text/plain": [
       "<Figure size 800x230 with 2 Axes>"
      ]
     },
     "metadata": {},
     "output_type": "display_data"
    },
    {
     "data": {
      "image/png": "[encoded data removed]",
      "text/plain": [
       "<Figure size 800x250 with 3 Axes>"
      ]
     },
     "metadata": {},
     "output_type": "display_data"
    }
   ],
   "source": [
    "# Summary plot: global feature importance\n",
    "shap.summary_plot(shap_values, X_test, feature_names=features, show=False)\n",
    "plt.title(\"SHAP Summary Plot for Ridge Regression\")\n",
    "plt.show()\n",
    "\n",
    "\n",
    "# Waterfall plot for a single prediction (e.g., first test set example)\n",
    "shap.plots.waterfall(shap_values[0])\n"
   ]
  },
  {
   "cell_type": "markdown",
   "id": "d4e6014f-eec5-409b-b371-539077de11a9",
   "metadata": {},
   "source": [
    "#### **Interpretation: SHAP Model Explainability**\n",
    "\n",
    "By applying SHAP analysis to my tuned Ridge Regression model, I am achieving a high level of transparency in how my predictive solution operates—translating complex model behavior into actionable, interpretable insights.\n",
    "\n",
    "#### **Global Insights (Summary Plot):**\n",
    "- The summary plot clearly shows that **Rainfall_mm** is the most influential driver of yield predictions across all samples. Higher rainfall consistently increases predicted yield, while lower rainfall reduces it—validating both agronomic knowledge and my previous statistical analysis.\n",
    "- **Fertilizer_Used** also positively contributes to yield, but its impact is smaller and more variable compared to rainfall. When fertilizer is used, the model reliably predicts higher yields.\n",
    "\n",
    "#### **Local Insights (Waterfall Plot):**\n",
    "- Examining an individual prediction, I am able to break down the exact contributions of each feature. For this sample, relatively low rainfall (312.73 mm) decreases the predicted yield by 1.07 tons/hectare, while the use of fertilizer increases it by 0.73 tons/hectare.\n",
    "- The final yield prediction for this instance is a sum of the baseline (mean prediction) and these SHAP contributions, making it easy for a farmer or agronomist to understand **how each management decision and weather outcome affects their specific yield forecast**.\n",
    "\n",
    "#### **Business and Stakeholder Value:**\n",
    "- This level of explainability is crucial for building trust in the model’s outputs, supporting adoption by growers, cooperatives, and policymakers.\n",
    "- By quantifying and visualizing the impact of controllable (fertilizer) and uncontrollable (rainfall) factors, I am empowering users to focus their decisions where they can make the greatest difference—maximizing returns and reducing risk.\n",
    "\n",
    "Overall, SHAP analysis demonstrates that my modeling solution is not only accurate, but also fully transparent and defensible—key qualities for real-world deployment in agriculture and business contexts.\n"
   ]
  },
  {
   "cell_type": "code",
   "execution_count": 105,
   "id": "323ca8b8-75e8-4b87-9d7b-fc5d07fb0a35",
   "metadata": {},
   "outputs": [],
   "source": [
    "# Saving PNG for Streamlit\n",
    "\n",
    "# Assuming ridge_best is your trained model, and X_test is your test features\n",
    "explainer = shap.Explainer(ridge_best, X_train)\n",
    "shap_values = explainer(X_test)\n",
    "\n",
    "# SHAP summary plot, save as PNG\n",
    "shap.summary_plot(shap_values, X_test, show=False)\n",
    "plt.title(\"SHAP Summary Plot: What Drives Yield?\")\n",
    "plt.savefig(\"shap_summary.png\", bbox_inches=\"tight\")\n",
    "plt.close()"
   ]
  },
  {
   "cell_type": "markdown",
   "id": "eaca1618-cd68-4eb4-a4e5-43130ed85716",
   "metadata": {},
   "source": [
    "## 9. Scenario Analysis: What-if Predictions\n",
    "\n",
    "To make my model actionable for decision-makers, I am conducting scenario analysis—simulating how changes in rainfall or fertilizer use affect wheat yield predictions.  \n",
    "This process demonstrates the real-world utility of the model, allowing farmers and advisors to answer \"what if\" questions and optimize their planning.\n",
    "\n",
    "**Example Scenarios:**\n",
    "- **Scenario 1:** Low rainfall (300 mm), fertilizer not used\n",
    "- **Scenario 2:** Average rainfall (550 mm), fertilizer used\n",
    "- **Scenario 3:** High rainfall (900 mm), fertilizer used"
   ]
  },
  {
   "cell_type": "code",
   "execution_count": 83,
   "id": "428e9fe3-01f4-4f6f-882c-51cbad00a08f",
   "metadata": {},
   "outputs": [],
   "source": [
    "# Defining example scenarios\n",
    "scenarios = pd.DataFrame({\n",
    "    'Rainfall_mm': [300, 550, 900],\n",
    "    'Fertilizer_Used': [0, 1, 1]\n",
    "})\n"
   ]
  },
  {
   "cell_type": "code",
   "execution_count": 85,
   "id": "7da68814-e8bf-446d-af16-dad63918cabd",
   "metadata": {},
   "outputs": [
    {
     "name": "stdout",
     "output_type": "stream",
     "text": [
      "   Rainfall_mm  Fertilizer_Used  Predicted_Yield_tons_per_hectare\n",
      "0          300                0                          2.654701\n",
      "1          550                1                          5.400980\n",
      "2          900                1                          7.146739\n"
     ]
    }
   ],
   "source": [
    "# Predicting yields for each scenario using the tuned Ridge model\n",
    "scenario_preds = ridge_best.predict(scenarios)\n",
    "scenarios['Predicted_Yield_tons_per_hectare'] = scenario_preds\n",
    "\n",
    "print(scenarios)"
   ]
  },
  {
   "cell_type": "markdown",
   "id": "3ca3567d-1fff-4067-a8af-cae039782894",
   "metadata": {},
   "source": [
    "**By applying the model to these scenarios:**\n",
    "\n",
    "- I am quantifying the substantial yield boost associated with both higher rainfall and fertilizer use.\n",
    "- For instance, moving from low to high rainfall (with fertilizer) could increase expected yield by several tons per hectare, a result that has direct implications for resource allocation, risk management, and financial planning at the farm or policy level.\n",
    "- Such scenario analysis enables practical, data-driven conversations between agronomists and growers—empowering stakeholders to make better decisions under uncertainty."
   ]
  },
  {
   "cell_type": "markdown",
   "id": "3c872e67-ae50-4401-aad9-8cbb52a03088",
   "metadata": {},
   "source": [
    "## 10. Model Comparison Summary\n",
    "\n",
    "To ensure robust model selection and clear communication with stakeholders, I am summarizing the performance of all predictive models applied in this project:\n",
    "\n",
    "| Model                | RMSE | MAE | R²  | Interpretation                 |\n",
    "|----------------------|------|-----|-----|-------------------------------|\n",
    "| Linear Regression    | 0.79 | 0.66| 0.78| Most accurate & interpretable  |\n",
    "| Ridge Regression     | 0.79 | 0.66| 0.78| No improvement over baseline   |\n",
    "| Lasso Regression     | 0.79 | 0.66| 0.78| No improvement, no sparsity    |\n",
    "| Random Forest        | 0.96 | 0.78| 0.68| Lower accuracy, less needed    |\n",
    "\n",
    "**Key Insights:**\n",
    "- Linear and regularized linear models provide the most accurate and stable yield predictions, confirming that the relationship between rainfall, fertilizer use, and yield is largely linear and additive in this dataset.\n",
    "- Ensemble models like Random Forest do not offer a performance advantage, further supporting the choice of simpler, more transparent models for deployment.\n",
    "- Model selection is always driven by a combination of accuracy, stability, and explainability—with linear regression excelling in all areas for this business case.\n",
    "\n",
    "This comprehensive evaluation ensures that my final recommendation is both statistically sound and aligned with the real needs of farmers, advisors, and agricultural planners.\n"
   ]
  },
  {
   "cell_type": "markdown",
   "id": "092da351-f9ac-4d69-b574-eeaa982ef8d1",
   "metadata": {},
   "source": [
    "# Summary and Business Recommendations\n",
    "\n",
    "## Recap of the Problem and Approach\n",
    "\n",
    "Accurately forecasting wheat crop yields is a persistent challenge for Kansas agriculture, directly impacting farm profitability, supply chain planning, and food security.  \n",
    "To address this, I developed a predictive analytics solution leveraging **10 years of county-level wheat yield, weather, and soil data**. The project applied rigorous data cleaning, exploratory data analysis (EDA), and a suite of machine learning models to identify key yield drivers and deliver actionable forecasts.\n",
    "\n",
    "---\n",
    "\n",
    "## Key Insights from EDA and Modeling\n",
    "\n",
    "- **Rainfall and fertilizer use are by far the strongest predictors of wheat yield**. Higher rainfall and the application of fertilizer both significantly increase expected yields, as confirmed by both statistical tests and all machine learning models.\n",
    "- Other variables—such as region, soil type, average temperature, and weather condition—showed little or no predictive value in this dataset.\n",
    "- Linear and regularized regression models performed best, achieving strong accuracy and offering clear interpretability for business decision-making.\n",
    "\n",
    "---\n",
    "\n",
    "## Model Performance (Non-Technical Summary)\n",
    "\n",
    "- The final model, **Ridge Regression**, explained approximately **78% of the variation in wheat yield** across unseen data (R² = 0.78).\n",
    "- The model’s typical prediction error (RMSE) is **less than 1 ton per hectare**, which is highly competitive given the typical yield range in Kansas.\n",
    "- Importantly, the model’s predictions are stable and robust, providing confidence for both strategic planning and day-to-day decisions.\n",
    "\n",
    "---\n",
    "\n",
    "## Business Recommendations\n",
    "\n",
    "- **Prioritize rainfall forecasting and monitoring.** Since rainfall is the single biggest driver of yield, investing in accurate weather prediction tools will directly support better planning and risk management.\n",
    "- **Encourage and optimize fertilizer use.** The clear positive impact of fertilizer on yield suggests that providing access to appropriate fertilizers and educating growers on optimal application strategies could yield substantial gains.\n",
    "- **Simplify decision support.** Since complex variables did not meaningfully improve predictions, stakeholders can focus on a small number of key metrics (rainfall and fertilizer) for operational decisions.\n",
    "- **Use the predictive model as a scenario planning tool.** The model can answer “what if” questions—such as expected yield changes under different rainfall or fertilizer conditions—helping farmers, cooperatives, and policymakers allocate resources more efficiently.\n",
    "\n",
    "---\n",
    "\n",
    "## Next Steps and Future Research\n",
    "\n",
    "- **Incorporate additional data sources** (e.g., high-resolution satellite imagery, monthly weather breakdowns, or real-time sensor data) to further improve model accuracy and granularity.\n",
    "- **Expand analysis to other crops or geographies** to test generalizability and deliver value across broader agricultural systems.\n",
    "- **Develop user-friendly digital tools or dashboards** to make model outputs directly accessible to growers and advisors.\n",
    "- **Explore ensemble or deep learning models** if more complex, nonlinear relationships are suspected with larger feature sets in the future.\n",
    "\n",
    "---\n",
    "\n",
    "## Project Impact and Business Relevance\n",
    "\n",
    "This project demonstrates that advanced data science techniques can translate large, complex agricultural datasets into clear, actionable insights—empowering stakeholders to make data-driven decisions and proactively manage yield risk.  \n",
    "By focusing on the key drivers of wheat production and providing transparent, stable forecasts, this solution delivers tangible business value for Kansas agriculture and serves as a scalable template for analytics-driven innovation in food production and supply chain management.\n"
   ]
  },
  {
   "cell_type": "code",
   "execution_count": null,
   "id": "b84404ae-339f-44de-ae75-45bada316c9b",
   "metadata": {},
   "outputs": [],
   "source": []
  },
  {
   "cell_type": "code",
   "execution_count": null,
   "id": "d77eb940-f3f8-4ec0-a963-046c544d5f57",
   "metadata": {},
   "outputs": [],
   "source": []
  },
  {
   "cell_type": "code",
   "execution_count": null,
   "id": "a6398b4e-5b1c-422e-b07f-d9024437c356",
   "metadata": {},
   "outputs": [],
   "source": []
  },
  {
   "cell_type": "code",
   "execution_count": null,
   "id": "844b31e7-8461-4df1-9d12-94984eb4b790",
   "metadata": {},
   "outputs": [],
   "source": []
  },
  {
   "cell_type": "code",
   "execution_count": null,
   "id": "6af36fe2-3ffb-405a-b572-6eea2630235b",
   "metadata": {},
   "outputs": [],
   "source": []
  }
 ],
 "metadata": {
  "kernelspec": {
   "display_name": "Python 3 (ipykernel)",
   "language": "python",
   "name": "python3"
  },
  "language_info": {
   "codemirror_mode": {
    "name": "ipython",
    "version": 3
   },
   "file_extension": ".py",
   "mimetype": "text/x-python",
   "name": "python",
   "nbconvert_exporter": "python",
   "pygments_lexer": "ipython3",
   "version": "3.11.7"
  }
 },
 "nbformat": 4,
 "nbformat_minor": 5
}
